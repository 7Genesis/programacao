{
  "nbformat": 4,
  "nbformat_minor": 0,
  "metadata": {
    "colab": {
      "provenance": []
    },
    "kernelspec": {
      "name": "python3",
      "display_name": "Python 3"
    },
    "language_info": {
      "name": "python"
    }
  },
  "cells": [
    {
      "cell_type": "code",
      "source": [
        "nome = input('Digite seu nome')\n",
        "print ('Seja Bem-vinda Putinha')"
      ],
      "metadata": {
        "colab": {
          "base_uri": "https://localhost:8080/"
        },
        "id": "TndLtVyBlAby",
        "outputId": "d75feef1-2834-496a-e1f7-d0dd9b62714e"
      },
      "execution_count": 25,
      "outputs": [
        {
          "output_type": "stream",
          "name": "stdout",
          "text": [
            "Digite seu nomeluan\n",
            "Seja Bem-vinda Putinha\n"
          ]
        }
      ]
    }
  ]
}