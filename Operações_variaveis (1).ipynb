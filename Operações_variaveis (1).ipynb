{
  "nbformat": 4,
  "nbformat_minor": 0,
  "metadata": {
    "colab": {
      "provenance": []
    },
    "kernelspec": {
      "name": "python3",
      "display_name": "Python 3"
    },
    "language_info": {
      "name": "python"
    }
  },
  "cells": [
    {
      "cell_type": "markdown",
      "source": [
        "# Operadores Aritméticos"
      ],
      "metadata": {
        "id": "T5ALZ6JllPlE"
      }
    },
    {
      "cell_type": "code",
      "source": [
        "#adição\n",
        "10 + 2"
      ],
      "metadata": {
        "colab": {
          "base_uri": "https://localhost:8080/"
        },
        "id": "sqqCxPwUAX0Q",
        "outputId": "baa2b82c-df55-4f11-aea9-8c5ed0e71e91"
      },
      "execution_count": null,
      "outputs": [
        {
          "output_type": "execute_result",
          "data": {
            "text/plain": [
              "12"
            ]
          },
          "metadata": {},
          "execution_count": 1
        }
      ]
    },
    {
      "cell_type": "code",
      "source": [
        "#subtação\n",
        "10 - 2"
      ],
      "metadata": {
        "colab": {
          "base_uri": "https://localhost:8080/"
        },
        "id": "J8XzozDtCwqO",
        "outputId": "c1586a4e-9ab8-4179-f44e-13c5f9b0a337"
      },
      "execution_count": null,
      "outputs": [
        {
          "output_type": "execute_result",
          "data": {
            "text/plain": [
              "8"
            ]
          },
          "metadata": {},
          "execution_count": 2
        }
      ]
    },
    {
      "cell_type": "code",
      "source": [
        "#Divisão\n",
        "10 / 2"
      ],
      "metadata": {
        "colab": {
          "base_uri": "https://localhost:8080/"
        },
        "id": "RsUWl9wTC16t",
        "outputId": "ebeb0f5e-94f5-4e2f-e9ad-118eb90fd595"
      },
      "execution_count": null,
      "outputs": [
        {
          "output_type": "execute_result",
          "data": {
            "text/plain": [
              "5.0"
            ]
          },
          "metadata": {},
          "execution_count": 3
        }
      ]
    },
    {
      "cell_type": "code",
      "source": [
        "#Divisão inteiro\n",
        "10 // 2"
      ],
      "metadata": {
        "colab": {
          "base_uri": "https://localhost:8080/"
        },
        "id": "-Wr_jZ9TC-11",
        "outputId": "ea7657f6-fb64-4c94-fb42-ac33ba9436ae"
      },
      "execution_count": null,
      "outputs": [
        {
          "output_type": "execute_result",
          "data": {
            "text/plain": [
              "5"
            ]
          },
          "metadata": {},
          "execution_count": 4
        }
      ]
    },
    {
      "cell_type": "code",
      "source": [
        "#Rosto da divisão\n",
        "10 % 2"
      ],
      "metadata": {
        "colab": {
          "base_uri": "https://localhost:8080/"
        },
        "id": "q0Z8SZLSDHYs",
        "outputId": "77edecf6-625a-42c1-a30c-5024248fcd27"
      },
      "execution_count": null,
      "outputs": [
        {
          "output_type": "execute_result",
          "data": {
            "text/plain": [
              "0"
            ]
          },
          "metadata": {},
          "execution_count": 5
        }
      ]
    },
    {
      "cell_type": "code",
      "source": [
        "#Roterização\n",
        "10 ** 2"
      ],
      "metadata": {
        "colab": {
          "base_uri": "https://localhost:8080/"
        },
        "id": "AmA_o0a3DPV5",
        "outputId": "2a41ce42-d90b-4634-d31f-713e96872eff"
      },
      "execution_count": null,
      "outputs": [
        {
          "output_type": "execute_result",
          "data": {
            "text/plain": [
              "100"
            ]
          },
          "metadata": {},
          "execution_count": 6
        }
      ]
    },
    {
      "cell_type": "markdown",
      "source": [
        "# Operações Relacionais"
      ],
      "metadata": {
        "id": "_pg_6AiblT54"
      }
    },
    {
      "cell_type": "code",
      "source": [
        "#Menor\n",
        "10 > 2"
      ],
      "metadata": {
        "colab": {
          "base_uri": "https://localhost:8080/"
        },
        "id": "EQZliDwUDpOY",
        "outputId": "47d9ec39-2a42-40b8-f440-e802a76dc844"
      },
      "execution_count": null,
      "outputs": [
        {
          "output_type": "execute_result",
          "data": {
            "text/plain": [
              "True"
            ]
          },
          "metadata": {},
          "execution_count": 7
        }
      ]
    },
    {
      "cell_type": "code",
      "source": [
        "#Menor ou igual\n",
        "10 <= 2"
      ],
      "metadata": {
        "colab": {
          "base_uri": "https://localhost:8080/"
        },
        "id": "_-82Og2iE47L",
        "outputId": "a5373b9e-d327-4601-a0cf-e303c886d0e1"
      },
      "execution_count": null,
      "outputs": [
        {
          "output_type": "execute_result",
          "data": {
            "text/plain": [
              "False"
            ]
          },
          "metadata": {},
          "execution_count": 8
        }
      ]
    },
    {
      "cell_type": "code",
      "source": [
        "#Maior\n",
        "10 > 2"
      ],
      "metadata": {
        "id": "Z0rq4cPXFHZS",
        "outputId": "f73c9d8f-ba8c-4e72-d0b6-59b69ac0ce3a",
        "colab": {
          "base_uri": "https://localhost:8080/"
        }
      },
      "execution_count": null,
      "outputs": [
        {
          "output_type": "execute_result",
          "data": {
            "text/plain": [
              "True"
            ]
          },
          "metadata": {},
          "execution_count": 9
        }
      ]
    },
    {
      "cell_type": "code",
      "source": [
        "#Maior ou igual\n",
        "25 >= 10"
      ],
      "metadata": {
        "id": "CFHciD4MFOzu",
        "outputId": "bad9f528-ba88-44aa-fc21-d50ab85000b6",
        "colab": {
          "base_uri": "https://localhost:8080/"
        }
      },
      "execution_count": null,
      "outputs": [
        {
          "output_type": "execute_result",
          "data": {
            "text/plain": [
              "True"
            ]
          },
          "metadata": {},
          "execution_count": 10
        }
      ]
    },
    {
      "cell_type": "code",
      "source": [
        "# Igual\n",
        "7 == 7"
      ],
      "metadata": {
        "colab": {
          "base_uri": "https://localhost:8080/"
        },
        "id": "2JisZs3sFgwA",
        "outputId": "709a2b57-502e-497b-8143-ac7cbbe6925c"
      },
      "execution_count": null,
      "outputs": [
        {
          "output_type": "execute_result",
          "data": {
            "text/plain": [
              "True"
            ]
          },
          "metadata": {},
          "execution_count": 11
        }
      ]
    },
    {
      "cell_type": "code",
      "source": [
        "# Diferente\n",
        "7 != 7"
      ],
      "metadata": {
        "colab": {
          "base_uri": "https://localhost:8080/"
        },
        "id": "_Dr4haNHFsfQ",
        "outputId": "f63e8a1f-f2b1-43b3-e527-9a5b0d54e52c"
      },
      "execution_count": null,
      "outputs": [
        {
          "output_type": "execute_result",
          "data": {
            "text/plain": [
              "False"
            ]
          },
          "metadata": {},
          "execution_count": 12
        }
      ]
    },
    {
      "cell_type": "markdown",
      "source": [
        "Operadores Lógicos\n",
        "\n",
        "\n",
        "*   And\n",
        "*   Or\n",
        "*   Not\n",
        "\n",
        "\n",
        "\n",
        "\n",
        "\n"
      ],
      "metadata": {
        "id": "yOgagmADGAtj"
      }
    },
    {
      "cell_type": "markdown",
      "source": [
        "Tabela da Verdade"
      ],
      "metadata": {
        "id": "fet-7NNNHmc4"
      }
    },
    {
      "cell_type": "markdown",
      "source": [
        "And"
      ],
      "metadata": {
        "id": "rJZY__kWHyQ2"
      }
    },
    {
      "cell_type": "code",
      "source": [
        "print(10 > 2 and 10 > 12)\n",
        "print(10 > 2 and 10 < 12)\n",
        "print(10 < 2 and 10 < 12)\n",
        "print(10 > 2 and 10 > 12)"
      ],
      "metadata": {
        "colab": {
          "base_uri": "https://localhost:8080/"
        },
        "id": "26eD0CuVJI8p",
        "outputId": "0d2418fe-61a7-4d00-e7af-67bcff26aef5"
      },
      "execution_count": null,
      "outputs": [
        {
          "output_type": "stream",
          "name": "stdout",
          "text": [
            "False\n",
            "True\n",
            "False\n",
            "False\n"
          ]
        }
      ]
    },
    {
      "cell_type": "markdown",
      "source": [
        "Or"
      ],
      "metadata": {
        "id": "srVCPdCTJl51"
      }
    },
    {
      "cell_type": "code",
      "source": [
        "print(10 > 2 or 10 > 12)\n",
        "print(10 > 2 or 10 < 12)\n",
        "print(10 < 2 or 10 < 12)\n",
        "print(10 > 2 or 10 > 12)"
      ],
      "metadata": {
        "colab": {
          "base_uri": "https://localhost:8080/"
        },
        "id": "sh-QF48XKq9y",
        "outputId": "ac6214cd-b373-405c-8bdb-980b013b72f9"
      },
      "execution_count": null,
      "outputs": [
        {
          "output_type": "stream",
          "name": "stdout",
          "text": [
            "True\n",
            "True\n",
            "True\n",
            "True\n"
          ]
        }
      ]
    },
    {
      "cell_type": "markdown",
      "source": [
        "Not"
      ],
      "metadata": {
        "id": "WuDcxmshK7UO"
      }
    },
    {
      "cell_type": "code",
      "source": [
        "not 2 > 1\n",
        "not 2 < 1"
      ],
      "metadata": {
        "colab": {
          "base_uri": "https://localhost:8080/"
        },
        "id": "Uh8FAyPdK8p3",
        "outputId": "df2f6f4d-c0eb-496c-ccf9-bf8fe4e03b07"
      },
      "execution_count": null,
      "outputs": [
        {
          "output_type": "execute_result",
          "data": {
            "text/plain": [
              "True"
            ]
          },
          "metadata": {},
          "execution_count": 15
        }
      ]
    },
    {
      "cell_type": "markdown",
      "source": [
        "#Operações variaveis"
      ],
      "metadata": {
        "id": "mxLSZVI9laty"
      }
    },
    {
      "cell_type": "code",
      "source": [
        "# Nome da variável é \"x\" que armazena o valor 10 em um espaço na memória\n",
        "x = 10\n",
        "\n",
        "print(x) # Utiliar a referencia nome atribuido"
      ],
      "metadata": {
        "colab": {
          "base_uri": "https://localhost:8080/"
        },
        "id": "GOP6_IBiuE3A",
        "outputId": "11cb384b-b0bf-4d2a-aab2-a912952ee04f"
      },
      "execution_count": null,
      "outputs": [
        {
          "output_type": "stream",
          "name": "stdout",
          "text": [
            "10\n"
          ]
        }
      ]
    },
    {
      "cell_type": "markdown",
      "source": [
        "Regras\n",
        "*   A != a\n",
        "\n",
        "\n",
        "\n",
        "\n",
        "\n"
      ],
      "metadata": {
        "id": "lpcolB8uu1AA"
      }
    },
    {
      "cell_type": "markdown",
      "source": [
        "Boas práticas com Variáveis\n",
        "\n",
        "*   Exemplo: Multiplicação de 2 números\n",
        "\n",
        "Não usar\n",
        "\n",
        "*   Multiplicação\n",
        "*   multiplicaçãoDeDoisNúmero\n",
        "*   M\n",
        "\n",
        "Usar\n",
        "\n",
        "\n",
        "*   multiplicação\n",
        "*   mult\n",
        "*   mult_total(snake_case)\n",
        "\n",
        "\n",
        "\n",
        "\n",
        "\n",
        "\n",
        "\n",
        "\n",
        "\n"
      ],
      "metadata": {
        "id": "jnzstToXvCQa"
      }
    },
    {
      "cell_type": "code",
      "source": [
        "#multiplicação\n",
        "x * 10"
      ],
      "metadata": {
        "colab": {
          "base_uri": "https://localhost:8080/"
        },
        "id": "23d_LgEKwJUY",
        "outputId": "3bc5c7fd-9c1a-4064-e898-0b0b3dc3ad49"
      },
      "execution_count": null,
      "outputs": [
        {
          "output_type": "execute_result",
          "data": {
            "text/plain": [
              "100"
            ]
          },
          "metadata": {},
          "execution_count": 17
        }
      ]
    },
    {
      "cell_type": "markdown",
      "source": [
        "# Visualização de Variáveis e textos"
      ],
      "metadata": {
        "id": "uATCl4f7l_Kn"
      }
    },
    {
      "cell_type": "code",
      "source": [
        "print(\"conhecendo o comando Print\")\n",
        "\n",
        "x = 8\n",
        "print (x)"
      ],
      "metadata": {
        "colab": {
          "base_uri": "https://localhost:8080/"
        },
        "id": "7iMBGGIqmFpa",
        "outputId": "03ee3b64-12d7-49bd-e5e2-16e72eeb6641"
      },
      "execution_count": null,
      "outputs": [
        {
          "output_type": "stream",
          "name": "stdout",
          "text": [
            "conhecendo o comando Print\n",
            "8\n"
          ]
        }
      ]
    },
    {
      "cell_type": "code",
      "source": [
        "y = 10\n",
        "soma = x + y\n",
        "print(soma)"
      ],
      "metadata": {
        "colab": {
          "base_uri": "https://localhost:8080/"
        },
        "id": "qzoGOQdPmea9",
        "outputId": "ae297169-ec9a-42eb-a46f-76edf4ed5a4c"
      },
      "execution_count": null,
      "outputs": [
        {
          "output_type": "stream",
          "name": "stdout",
          "text": [
            "18\n"
          ]
        }
      ]
    },
    {
      "cell_type": "code",
      "source": [
        "nome = 'Gênesis Melo'\n",
        "print(nome)"
      ],
      "metadata": {
        "colab": {
          "base_uri": "https://localhost:8080/"
        },
        "id": "qBG9VkOtnQlK",
        "outputId": "bf27444c-6b8e-497f-8818-5628e31122d9"
      },
      "execution_count": null,
      "outputs": [
        {
          "output_type": "stream",
          "name": "stdout",
          "text": [
            "Gênesis Melo\n"
          ]
        }
      ]
    },
    {
      "cell_type": "markdown",
      "source": [
        "Contatenação"
      ],
      "metadata": {
        "id": "kFtxEA0RnkDZ"
      }
    },
    {
      "cell_type": "code",
      "source": [
        "x = 5\n",
        "print('O valor de x é',x)"
      ],
      "metadata": {
        "colab": {
          "base_uri": "https://localhost:8080/"
        },
        "id": "txOW14KNnl6u",
        "outputId": "47d4ae22-6356-4fbe-e235-b8d074f44915"
      },
      "execution_count": null,
      "outputs": [
        {
          "output_type": "stream",
          "name": "stdout",
          "text": [
            "O valor de x é 5\n"
          ]
        }
      ]
    },
    {
      "cell_type": "code",
      "source": [
        "print('o valor de x é', x,'é o dobro é',x * 2)"
      ],
      "metadata": {
        "colab": {
          "base_uri": "https://localhost:8080/"
        },
        "id": "r6lF7GAEn05m",
        "outputId": "692b2718-1825-4f11-b7a3-14ae93e36a31"
      },
      "execution_count": null,
      "outputs": [
        {
          "output_type": "stream",
          "name": "stdout",
          "text": [
            "o valor de x é 5 é o dobro é 10\n"
          ]
        }
      ]
    },
    {
      "cell_type": "code",
      "source": [
        "print('Eu,', nome,'tirei', x,'na prova de Python')"
      ],
      "metadata": {
        "colab": {
          "base_uri": "https://localhost:8080/"
        },
        "id": "scfJS4W7oIfZ",
        "outputId": "b25ae195-2a72-45ea-9cca-8b54fe886835"
      },
      "execution_count": null,
      "outputs": [
        {
          "output_type": "stream",
          "name": "stdout",
          "text": [
            "Eu, Gênesis Melo tirei 5 na prova de Python\n"
          ]
        }
      ]
    },
    {
      "cell_type": "code",
      "source": [
        "y = 10; z = 20 + x -y\n",
        "print('Declarar várias variaveis na mesma linha:', y, z)"
      ],
      "metadata": {
        "colab": {
          "base_uri": "https://localhost:8080/"
        },
        "id": "0-2Igum7owJ6",
        "outputId": "a0f7a586-e03b-4bf3-c470-e3602d81d668"
      },
      "execution_count": null,
      "outputs": [
        {
          "output_type": "stream",
          "name": "stdout",
          "text": [
            "Declarar várias variaveis na mesma linha: 10 15\n"
          ]
        }
      ]
    },
    {
      "cell_type": "markdown",
      "source": [
        "Type"
      ],
      "metadata": {
        "id": "ljbGj4VjpbKK"
      }
    },
    {
      "cell_type": "code",
      "source": [
        "x = 10\n",
        "type(x)\n",
        "print('x', type(x))\n",
        "\n",
        "nome = 'Gênesis'\n",
        "print('nome', type(nome))\n",
        "\n",
        "num = '100'\n",
        "num_convert = int(num) #Converter variável\n",
        "print('num', type(num_convert))\n",
        "print('num_conver', type(num_convert))\n",
        "\n",
        "num_float = float(num)\n",
        "print('num_float', num_float)"
      ],
      "metadata": {
        "colab": {
          "base_uri": "https://localhost:8080/"
        },
        "id": "jII6Dnmkpb_A",
        "outputId": "d5938d7d-87e8-4c8b-b0e0-075882aa0cb6"
      },
      "execution_count": null,
      "outputs": [
        {
          "output_type": "stream",
          "name": "stdout",
          "text": [
            "x <class 'int'>\n",
            "nome <class 'str'>\n",
            "num <class 'int'>\n",
            "num_conver <class 'int'>\n",
            "num_float 100.0\n"
          ]
        }
      ]
    },
    {
      "cell_type": "markdown",
      "source": [
        "Input\n",
        "* Armazenar a informação digiatada pelo usuário em uma variável\n",
        "* O dado armazenado sempre será um texto"
      ],
      "metadata": {
        "id": "Yrij2b3nrGWJ"
      }
    },
    {
      "cell_type": "code",
      "source": [
        "nome = input(\"Digite o nome do usuário\") # Aguarde o usuário digitar algo\n",
        "print(nome)"
      ],
      "metadata": {
        "colab": {
          "base_uri": "https://localhost:8080/"
        },
        "id": "xvr3mby3rUYL",
        "outputId": "e6c538fd-94ad-4f48-82d3-2dc4cb15ed23"
      },
      "execution_count": null,
      "outputs": [
        {
          "output_type": "stream",
          "name": "stdout",
          "text": [
            "Digite o nome do usuárioGênesis\n",
            "Gênesis\n"
          ]
        }
      ]
    },
    {
      "cell_type": "code",
      "source": [
        "valor = input('Digite a nota')\n",
        "\n",
        "print(nome, 'sua nota foi', valor)"
      ],
      "metadata": {
        "colab": {
          "base_uri": "https://localhost:8080/"
        },
        "id": "ipYWpCzVsOkN",
        "outputId": "b4dd30cf-a97e-4cf7-81fe-22939994084d"
      },
      "execution_count": null,
      "outputs": [
        {
          "output_type": "stream",
          "name": "stdout",
          "text": [
            "Digite a nota 10\n",
            "Gênesis sua nota foi  10\n"
          ]
        }
      ]
    },
    {
      "cell_type": "code",
      "source": [
        "valor = input('digite o valor do produto:')\n",
        "print(valor)"
      ],
      "metadata": {
        "colab": {
          "base_uri": "https://localhost:8080/"
        },
        "id": "CCKIWTTRsuSH",
        "outputId": "5611b46f-4e64-4de3-cb68-5fdbf7759f41"
      },
      "execution_count": null,
      "outputs": [
        {
          "output_type": "stream",
          "name": "stdout",
          "text": [
            "digite o valor do produto:10\n",
            "10\n"
          ]
        }
      ]
    },
    {
      "cell_type": "code",
      "source": [
        "desconto = valor - 5"
      ],
      "metadata": {
        "colab": {
          "base_uri": "https://localhost:8080/",
          "height": 141
        },
        "id": "qdiDHbqAs7ww",
        "outputId": "fbe0b203-5138-48b5-db25-aedef664dd7f"
      },
      "execution_count": null,
      "outputs": [
        {
          "output_type": "error",
          "ename": "NameError",
          "evalue": "name 'valor' is not defined",
          "traceback": [
            "\u001b[0;31m---------------------------------------------------------------------------\u001b[0m",
            "\u001b[0;31mNameError\u001b[0m                                 Traceback (most recent call last)",
            "\u001b[0;32m/tmp/ipython-input-55-2171237004.py\u001b[0m in \u001b[0;36m<cell line: 0>\u001b[0;34m()\u001b[0m\n\u001b[0;32m----> 1\u001b[0;31m \u001b[0mdesconto\u001b[0m \u001b[0;34m=\u001b[0m \u001b[0mvalor\u001b[0m \u001b[0;34m-\u001b[0m \u001b[0;36m5\u001b[0m\u001b[0;34m\u001b[0m\u001b[0;34m\u001b[0m\u001b[0m\n\u001b[0m",
            "\u001b[0;31mNameError\u001b[0m: name 'valor' is not defined"
          ]
        }
      ]
    },
    {
      "cell_type": "code",
      "source": [
        "valor_convet = int(valor)\n",
        "desconto - valor_convet - 5\n",
        "print(desconto)"
      ],
      "metadata": {
        "colab": {
          "base_uri": "https://localhost:8080/",
          "height": 176
        },
        "id": "hY63hP7lt4az",
        "outputId": "ca246814-587f-473c-f5ab-c261cc10a5d8"
      },
      "execution_count": null,
      "outputs": [
        {
          "output_type": "error",
          "ename": "NameError",
          "evalue": "name 'valor' is not defined",
          "traceback": [
            "\u001b[0;31m---------------------------------------------------------------------------\u001b[0m",
            "\u001b[0;31mNameError\u001b[0m                                 Traceback (most recent call last)",
            "\u001b[0;32m/tmp/ipython-input-54-504975658.py\u001b[0m in \u001b[0;36m<cell line: 0>\u001b[0;34m()\u001b[0m\n\u001b[0;32m----> 1\u001b[0;31m \u001b[0mvalor_convet\u001b[0m \u001b[0;34m=\u001b[0m \u001b[0mint\u001b[0m\u001b[0;34m(\u001b[0m\u001b[0mvalor\u001b[0m\u001b[0;34m)\u001b[0m\u001b[0;34m\u001b[0m\u001b[0;34m\u001b[0m\u001b[0m\n\u001b[0m\u001b[1;32m      2\u001b[0m \u001b[0mdesconto\u001b[0m \u001b[0;34m-\u001b[0m \u001b[0mvalor_convet\u001b[0m \u001b[0;34m-\u001b[0m \u001b[0;36m5\u001b[0m\u001b[0;34m\u001b[0m\u001b[0;34m\u001b[0m\u001b[0m\n\u001b[1;32m      3\u001b[0m \u001b[0mprint\u001b[0m\u001b[0;34m(\u001b[0m\u001b[0mdesconto\u001b[0m\u001b[0;34m)\u001b[0m\u001b[0;34m\u001b[0m\u001b[0;34m\u001b[0m\u001b[0m\n",
            "\u001b[0;31mNameError\u001b[0m: name 'valor' is not defined"
          ]
        }
      ]
    },
    {
      "cell_type": "code",
      "source": [
        "desconto = int(valor) - 5\n",
        "print(desconto)"
      ],
      "metadata": {
        "colab": {
          "base_uri": "https://localhost:8080/",
          "height": 159
        },
        "id": "vpk2Y8TFuHrO",
        "outputId": "87fdc690-5a35-4919-e460-b195d1b1cf0c"
      },
      "execution_count": null,
      "outputs": [
        {
          "output_type": "error",
          "ename": "NameError",
          "evalue": "name 'valor' is not defined",
          "traceback": [
            "\u001b[0;31m---------------------------------------------------------------------------\u001b[0m",
            "\u001b[0;31mNameError\u001b[0m                                 Traceback (most recent call last)",
            "\u001b[0;32m/tmp/ipython-input-53-3171644196.py\u001b[0m in \u001b[0;36m<cell line: 0>\u001b[0;34m()\u001b[0m\n\u001b[0;32m----> 1\u001b[0;31m \u001b[0mdesconto\u001b[0m \u001b[0;34m=\u001b[0m \u001b[0mint\u001b[0m\u001b[0;34m(\u001b[0m\u001b[0mvalor\u001b[0m\u001b[0;34m)\u001b[0m \u001b[0;34m-\u001b[0m \u001b[0;36m5\u001b[0m\u001b[0;34m\u001b[0m\u001b[0;34m\u001b[0m\u001b[0m\n\u001b[0m\u001b[1;32m      2\u001b[0m \u001b[0mprint\u001b[0m\u001b[0;34m(\u001b[0m\u001b[0mdesconto\u001b[0m\u001b[0;34m)\u001b[0m\u001b[0;34m\u001b[0m\u001b[0;34m\u001b[0m\u001b[0m\n",
            "\u001b[0;31mNameError\u001b[0m: name 'valor' is not defined"
          ]
        }
      ]
    },
    {
      "cell_type": "markdown",
      "source": [
        "# Condicional\n"
      ],
      "metadata": {
        "id": "HE3WH_Qrws6b"
      }
    },
    {
      "cell_type": "code",
      "source": [
        "#If\n",
        "if 5 < 10:\n",
        "  print('Verdade')\n"
      ],
      "metadata": {
        "colab": {
          "base_uri": "https://localhost:8080/"
        },
        "id": "Bt1uIJHbwx3f",
        "outputId": "2e97aa23-1ed0-4e2b-b0fa-a1e1d1ba9748"
      },
      "execution_count": null,
      "outputs": [
        {
          "output_type": "stream",
          "name": "stdout",
          "text": [
            "Verdade\n"
          ]
        }
      ]
    },
    {
      "cell_type": "code",
      "source": [
        "#if/else\n",
        "num1 = 10\n",
        "num2 = 5\n",
        "if num1 > num2:\n",
        "  print('O num1 é o maior número')\n",
        "else:\n",
        "    print('O num2 é o maior número')"
      ],
      "metadata": {
        "colab": {
          "base_uri": "https://localhost:8080/"
        },
        "id": "u1NsFK82w0yn",
        "outputId": "2724e7dd-a673-4559-d209-b39374ec1f09"
      },
      "execution_count": null,
      "outputs": [
        {
          "output_type": "stream",
          "name": "stdout",
          "text": [
            "O num1 é o maior número\n"
          ]
        }
      ]
    },
    {
      "cell_type": "code",
      "source": [
        "# If/ Elif / Else\n",
        "num1 = 10\n",
        "num2 = 10\n",
        "if num1 > num2:\n",
        "  print('O num1 é o maior número')\n",
        "elif num1 < num2:\n",
        "    print('o num2 é o maior número')\n",
        "else:\n",
        "    print('Os dois são iguais')"
      ],
      "metadata": {
        "colab": {
          "base_uri": "https://localhost:8080/"
        },
        "id": "m_bvhKUFyxMf",
        "outputId": "f5e6d4a9-2aad-4cd4-c6f9-e8f2c93d4ad8"
      },
      "execution_count": null,
      "outputs": [
        {
          "output_type": "stream",
          "name": "stdout",
          "text": [
            "Os dois são iguais\n"
          ]
        }
      ]
    },
    {
      "cell_type": "markdown",
      "source": [
        "# Condicional com operadores lógicos"
      ],
      "metadata": {
        "id": "ieeN3cjrzhPW"
      }
    },
    {
      "cell_type": "code",
      "source": [
        "num1 = 10\n",
        "num2 = 5\n",
        "num3 = 2\n",
        "if (num1 > num2) and (num1 > num3):\n",
        "  print('O num1 é maior número')\n",
        "else:\n",
        "  print('O num1 não é maior número')\n"
      ],
      "metadata": {
        "colab": {
          "base_uri": "https://localhost:8080/"
        },
        "id": "H0Lb-DK6zlkt",
        "outputId": "cdc64611-a14f-46db-d5f7-000d339c58bf"
      },
      "execution_count": null,
      "outputs": [
        {
          "output_type": "stream",
          "name": "stdout",
          "text": [
            "O num1 é maior número\n"
          ]
        }
      ]
    },
    {
      "cell_type": "markdown",
      "source": [
        "# Listas, tuplas e dicionários"
      ],
      "metadata": {
        "id": "y2R6YhP46Zt6"
      }
    },
    {
      "cell_type": "code",
      "source": [
        "# Lista\n",
        "[1,2,3,4,5]"
      ],
      "metadata": {
        "id": "wc7xYmQu6erx",
        "colab": {
          "base_uri": "https://localhost:8080/"
        },
        "outputId": "674a46d5-bbc6-473a-bb8b-8de7cbd06922"
      },
      "execution_count": null,
      "outputs": [
        {
          "output_type": "execute_result",
          "data": {
            "text/plain": [
              "[1, 2, 3, 4, 5]"
            ]
          },
          "metadata": {},
          "execution_count": 46
        }
      ]
    },
    {
      "cell_type": "code",
      "source": [
        "# Tupla\n",
        "(1,2,3,4,5)"
      ],
      "metadata": {
        "id": "VR768E7J6n_S",
        "colab": {
          "base_uri": "https://localhost:8080/"
        },
        "outputId": "d93e8718-cd2d-4202-f954-de084b626371"
      },
      "execution_count": null,
      "outputs": [
        {
          "output_type": "execute_result",
          "data": {
            "text/plain": [
              "(1, 2, 3, 4, 5)"
            ]
          },
          "metadata": {},
          "execution_count": 47
        }
      ]
    },
    {
      "cell_type": "code",
      "source": [
        "# Dicionário\n",
        "{'num1': 1, 'num2': 2}"
      ],
      "metadata": {
        "id": "Hic6jRDs6tQK",
        "colab": {
          "base_uri": "https://localhost:8080/"
        },
        "outputId": "f611e4de-435d-4dae-9278-dd272eac9908"
      },
      "execution_count": null,
      "outputs": [
        {
          "output_type": "execute_result",
          "data": {
            "text/plain": [
              "{'num1': 1, 'num2': 2}"
            ]
          },
          "metadata": {},
          "execution_count": 48
        }
      ]
    },
    {
      "cell_type": "markdown",
      "source": [
        "# Lista"
      ],
      "metadata": {
        "id": "etLTY_s962si"
      }
    },
    {
      "cell_type": "code",
      "source": [
        "lista =[5, 'Rodrigo',8.9]"
      ],
      "metadata": {
        "id": "UUs2vgfC65UW"
      },
      "execution_count": null,
      "outputs": []
    },
    {
      "cell_type": "code",
      "source": [
        "type(lista)"
      ],
      "metadata": {
        "colab": {
          "base_uri": "https://localhost:8080/"
        },
        "id": "Dovffb9Y7LpM",
        "outputId": "69dc2bda-e5ba-49bd-8db4-31ba5bd7400e"
      },
      "execution_count": null,
      "outputs": [
        {
          "output_type": "execute_result",
          "data": {
            "text/plain": [
              "list"
            ]
          },
          "metadata": {},
          "execution_count": 92
        }
      ]
    },
    {
      "cell_type": "code",
      "source": [
        "lista.append(\"Gênesis\") # ADcionar um elemento na lista"
      ],
      "metadata": {
        "id": "FdVOYeM07Nqc"
      },
      "execution_count": null,
      "outputs": []
    },
    {
      "cell_type": "code",
      "source": [
        "print(lista)\n",
        "print(lista[1])"
      ],
      "metadata": {
        "colab": {
          "base_uri": "https://localhost:8080/"
        },
        "id": "ZukGijBq7Xpa",
        "outputId": "29b579ca-ffc1-4b40-bd6c-7970670df53d"
      },
      "execution_count": null,
      "outputs": [
        {
          "output_type": "stream",
          "name": "stdout",
          "text": [
            "[5, 'Rodrigo', 8.9, 'Gênesis']\n",
            "Rodrigo\n"
          ]
        }
      ]
    },
    {
      "cell_type": "markdown",
      "source": [
        "# Tupla"
      ],
      "metadata": {
        "id": "90KnL-tW8Kq9"
      }
    },
    {
      "cell_type": "code",
      "source": [
        "Tupla = (5,'Gênesis', 8.9)"
      ],
      "metadata": {
        "id": "qV7Sa8-n8NYQ"
      },
      "execution_count": null,
      "outputs": []
    },
    {
      "cell_type": "code",
      "source": [
        "type(Tupla)"
      ],
      "metadata": {
        "colab": {
          "base_uri": "https://localhost:8080/"
        },
        "id": "0QMyAwE_9RO6",
        "outputId": "e808b897-cff1-4ddd-edab-d4e167742f84"
      },
      "execution_count": null,
      "outputs": [
        {
          "output_type": "execute_result",
          "data": {
            "text/plain": [
              "tuple"
            ]
          },
          "metadata": {},
          "execution_count": 43
        }
      ]
    },
    {
      "cell_type": "code",
      "source": [
        "tupla.append(\"Lázaro\")"
      ],
      "metadata": {
        "colab": {
          "base_uri": "https://localhost:8080/",
          "height": 141
        },
        "id": "LsMV7fTJ9U2s",
        "outputId": "1fe278cc-7cfb-4b90-f5d7-cfc610c1d859"
      },
      "execution_count": null,
      "outputs": [
        {
          "output_type": "error",
          "ename": "NameError",
          "evalue": "name 'tupla' is not defined",
          "traceback": [
            "\u001b[0;31m---------------------------------------------------------------------------\u001b[0m",
            "\u001b[0;31mNameError\u001b[0m                                 Traceback (most recent call last)",
            "\u001b[0;32m/tmp/ipython-input-44-3816206723.py\u001b[0m in \u001b[0;36m<cell line: 0>\u001b[0;34m()\u001b[0m\n\u001b[0;32m----> 1\u001b[0;31m \u001b[0mtupla\u001b[0m\u001b[0;34m.\u001b[0m\u001b[0mappend\u001b[0m\u001b[0;34m(\u001b[0m\u001b[0;34m\"Lázaro\"\u001b[0m\u001b[0;34m)\u001b[0m\u001b[0;34m\u001b[0m\u001b[0;34m\u001b[0m\u001b[0m\n\u001b[0m",
            "\u001b[0;31mNameError\u001b[0m: name 'tupla' is not defined"
          ]
        }
      ]
    },
    {
      "cell_type": "code",
      "source": [
        "print(Tupla)"
      ],
      "metadata": {
        "colab": {
          "base_uri": "https://localhost:8080/"
        },
        "id": "saONxFpo9aQq",
        "outputId": "1604c458-2315-4c73-d071-6adbb53febcb"
      },
      "execution_count": null,
      "outputs": [
        {
          "output_type": "stream",
          "name": "stdout",
          "text": [
            "(5, 'Gênesis', 8.9)\n"
          ]
        }
      ]
    },
    {
      "cell_type": "markdown",
      "source": [
        "# Dicionário"
      ],
      "metadata": {
        "id": "JsZxwa_P-MGA"
      }
    },
    {
      "cell_type": "code",
      "source": [
        "dicionario = {'nome':'Gênesis','cidade':'São Paulo'}"
      ],
      "metadata": {
        "id": "bGozBIlw-QLc"
      },
      "execution_count": null,
      "outputs": []
    },
    {
      "cell_type": "code",
      "source": [
        "type(dicionario)"
      ],
      "metadata": {
        "colab": {
          "base_uri": "https://localhost:8080/"
        },
        "id": "gzXKrRqu-gwO",
        "outputId": "74e21ba9-5327-4b86-dd93-7a2b75b45e2d"
      },
      "execution_count": null,
      "outputs": [
        {
          "output_type": "execute_result",
          "data": {
            "text/plain": [
              "dict"
            ]
          },
          "metadata": {},
          "execution_count": 112
        }
      ]
    },
    {
      "cell_type": "code",
      "source": [
        "print(dicionario)"
      ],
      "metadata": {
        "colab": {
          "base_uri": "https://localhost:8080/"
        },
        "id": "4W7E4EzY-ja-",
        "outputId": "84aba282-b87b-4c39-fd9d-ee44e3f8e9b3"
      },
      "execution_count": null,
      "outputs": [
        {
          "output_type": "stream",
          "name": "stdout",
          "text": [
            "{'nome': 'Gênesis', 'cidade': 'São Paulo'}\n"
          ]
        }
      ]
    },
    {
      "cell_type": "code",
      "source": [
        "print(dicionario[\"nome\"])"
      ],
      "metadata": {
        "colab": {
          "base_uri": "https://localhost:8080/"
        },
        "id": "EUSx8Vcv-men",
        "outputId": "26a8ef20-bbd7-44e2-b393-2f8cbb604982"
      },
      "execution_count": null,
      "outputs": [
        {
          "output_type": "stream",
          "name": "stdout",
          "text": [
            "Gênesis\n"
          ]
        }
      ]
    },
    {
      "cell_type": "code",
      "source": [
        "dicionario['ultimo_nome']='Rebouças'"
      ],
      "metadata": {
        "id": "LaZkKNwx-ucp"
      },
      "execution_count": null,
      "outputs": []
    },
    {
      "cell_type": "code",
      "source": [
        "print(dicionario)"
      ],
      "metadata": {
        "colab": {
          "base_uri": "https://localhost:8080/"
        },
        "id": "xJBwxjCE-6Xs",
        "outputId": "708403a3-c790-43bc-f673-b03d838f3875"
      },
      "execution_count": null,
      "outputs": [
        {
          "output_type": "stream",
          "name": "stdout",
          "text": [
            "{'nome': 'Gênesis', 'cidade': 'São Paulo', 'ultimo_nome': 'Rebouças'}\n"
          ]
        }
      ]
    },
    {
      "cell_type": "markdown",
      "source": [
        "# Estrutura de repetição"
      ],
      "metadata": {
        "id": "An5qVW7tAnaw"
      }
    },
    {
      "cell_type": "markdown",
      "source": [
        "# For"
      ],
      "metadata": {
        "id": "g0wqgrF_Ar32"
      }
    },
    {
      "cell_type": "code",
      "source": [
        "# For Range\n",
        "for contador in range(10):\n",
        "  print(contador)"
      ],
      "metadata": {
        "colab": {
          "base_uri": "https://localhost:8080/"
        },
        "id": "H8TjVJPPAuU1",
        "outputId": "01f930fb-7bd2-4dd1-e029-ad3d50ebeac0"
      },
      "execution_count": null,
      "outputs": [
        {
          "output_type": "stream",
          "name": "stdout",
          "text": [
            "0\n",
            "1\n",
            "2\n",
            "3\n",
            "4\n",
            "5\n",
            "6\n",
            "7\n",
            "8\n",
            "9\n"
          ]
        }
      ]
    },
    {
      "cell_type": "code",
      "source": [
        "# For Range + Break\n",
        "for contador in range(1000):\n",
        "  print(contador)\n",
        "  if contador == 2:\n",
        "    break"
      ],
      "metadata": {
        "colab": {
          "base_uri": "https://localhost:8080/"
        },
        "id": "-gbSp7pyA2IP",
        "outputId": "ebfc14b7-c8a5-4ffb-ece2-2bb31a207bf6"
      },
      "execution_count": null,
      "outputs": [
        {
          "output_type": "stream",
          "name": "stdout",
          "text": [
            "0\n",
            "1\n",
            "2\n"
          ]
        }
      ]
    },
    {
      "cell_type": "code",
      "source": [
        "lista = [\"Teste1\",\"Teste2\"]"
      ],
      "metadata": {
        "id": "Q9zc9eR5BLR1"
      },
      "execution_count": null,
      "outputs": []
    },
    {
      "cell_type": "code",
      "source": [
        "# For Simples\n",
        "for val in lista:\n",
        "    print(val)"
      ],
      "metadata": {
        "colab": {
          "base_uri": "https://localhost:8080/"
        },
        "id": "GRp0fn0_BScz",
        "outputId": "b51c96e1-cfe7-4a41-e0c0-957949e27f2c"
      },
      "execution_count": null,
      "outputs": [
        {
          "output_type": "stream",
          "name": "stdout",
          "text": [
            "Teste1\n",
            "Teste2\n"
          ]
        }
      ]
    },
    {
      "cell_type": "code",
      "source": [
        "# for con enumerate\n",
        "for i,  val in enumerate(lista):\n",
        "    print(i, val)"
      ],
      "metadata": {
        "colab": {
          "base_uri": "https://localhost:8080/"
        },
        "id": "RnotnckjBYP8",
        "outputId": "301d4eb1-17e4-48a7-8de0-118426e5770d"
      },
      "execution_count": null,
      "outputs": [
        {
          "output_type": "stream",
          "name": "stdout",
          "text": [
            "0 Teste1\n",
            "1 Teste2\n"
          ]
        }
      ]
    },
    {
      "cell_type": "markdown",
      "source": [
        "# For com operadores compostos"
      ],
      "metadata": {
        "id": "pD6Cvbm3BiIO"
      }
    },
    {
      "cell_type": "code",
      "source": [
        "lista2 = [2, 3, 4]"
      ],
      "metadata": {
        "id": "NDmqEE0lBlsv"
      },
      "execution_count": null,
      "outputs": []
    },
    {
      "cell_type": "code",
      "source": [
        "for val in lista2:\n",
        "    val += 1\n",
        "    print(val)"
      ],
      "metadata": {
        "colab": {
          "base_uri": "https://localhost:8080/"
        },
        "id": "hY6TiAbCEvMY",
        "outputId": "526583d6-2e1f-4c35-eeb4-46a18cb01054"
      },
      "execution_count": null,
      "outputs": [
        {
          "output_type": "stream",
          "name": "stdout",
          "text": [
            "3\n",
            "4\n",
            "5\n"
          ]
        }
      ]
    },
    {
      "cell_type": "code",
      "source": [
        "for val in lista2:\n",
        "    val *= 2\n",
        "    print(val)"
      ],
      "metadata": {
        "colab": {
          "base_uri": "https://localhost:8080/"
        },
        "id": "t308mOjLE51N",
        "outputId": "ba0a5f3f-8800-4e0c-f941-e4220c812dbe"
      },
      "execution_count": null,
      "outputs": [
        {
          "output_type": "stream",
          "name": "stdout",
          "text": [
            "4\n",
            "6\n",
            "8\n"
          ]
        }
      ]
    },
    {
      "cell_type": "markdown",
      "source": [
        "# While"
      ],
      "metadata": {
        "id": "o1CQnBj4FG_p"
      }
    },
    {
      "cell_type": "code",
      "source": [
        "# While com else\n",
        "val = 1\n",
        "while val < 6:\n",
        "   val*=2\n",
        "else:\n",
        "    print('Valor de val é:', val)"
      ],
      "metadata": {
        "colab": {
          "base_uri": "https://localhost:8080/"
        },
        "id": "v3aURMIoHFxC",
        "outputId": "127e9a28-75ba-461c-b798-538d8a8cec40"
      },
      "execution_count": null,
      "outputs": [
        {
          "output_type": "stream",
          "name": "stdout",
          "text": [
            "Valor de val é: 8\n"
          ]
        }
      ]
    },
    {
      "cell_type": "code",
      "source": [
        "val = 1\n",
        "while(val < 6):\n",
        "     val*=2\n",
        "     print(val)"
      ],
      "metadata": {
        "colab": {
          "base_uri": "https://localhost:8080/"
        },
        "id": "4aiwgQGmFMJ7",
        "outputId": "868fe310-4acc-48c9-d2d6-96fefc33e52f"
      },
      "execution_count": null,
      "outputs": [
        {
          "output_type": "stream",
          "name": "stdout",
          "text": [
            "2\n",
            "4\n",
            "8\n"
          ]
        }
      ]
    },
    {
      "cell_type": "markdown",
      "source": [
        "# Calculadora"
      ],
      "metadata": {
        "id": "enWnqcy464tK"
      }
    },
    {
      "cell_type": "code",
      "source": [
        "\n",
        "#calculadora basica\n",
        "\n",
        "# operação\n",
        "print('Selecione o número da operação desejada:')\n",
        "print('1 - Soma')\n",
        "print('2 - Subtrair')\n",
        "print('3 - Multiplicação')\n",
        "print('4 - Divisão')\n",
        "\n",
        "operacao = int(input())\n",
        "num1 = int(input('Digite o primeiro número: '))\n",
        "num2 = int(input('Digite o segundo número: '))\n",
        "\n",
        "if operacao == 1:\n",
        "  print(num1 + num2)\n",
        "\n",
        "elif operacao == 2:\n",
        "  print(num1 - num2)\n",
        "\n",
        "elif operacao == 3:\n",
        "  print(num1 * num2)\n",
        "\n",
        "elif operacao == 4:\n",
        "  print(num1 / num2)\n",
        "else: resultado == num1 / num2"
      ],
      "metadata": {
        "colab": {
          "base_uri": "https://localhost:8080/"
        },
        "id": "bImd4EVM7EF9",
        "outputId": "53470da3-8209-4c27-d583-3b34765eb482"
      },
      "execution_count": null,
      "outputs": [
        {
          "output_type": "stream",
          "name": "stdout",
          "text": [
            "Selecione o número da operação desejada:\n",
            "1 - Soma\n",
            "2 - Subtrair\n",
            "3 - Multiplicação\n",
            "4 - Divisão\n",
            "1\n",
            "Digite o primeiro número: 2\n",
            "Digite o segundo número: 5\n",
            "7\n"
          ]
        }
      ]
    }
  ]
}